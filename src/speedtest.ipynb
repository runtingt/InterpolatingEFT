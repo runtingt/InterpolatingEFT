{
 "cells": [
  {
   "cell_type": "code",
   "execution_count": 1,
   "metadata": {},
   "outputs": [],
   "source": [
    "import os\n",
    "import pandas as pd\n",
    "import numpy as np\n",
    "from pathlib import Path\n",
    "from InterpolatingEFT.utils import loadConfig\n",
    "from InterpolatingEFT.interpolator import rbfInterpolator"
   ]
  },
  {
   "cell_type": "code",
   "execution_count": 2,
   "metadata": {},
   "outputs": [],
   "source": [
    "args = {}\n",
    "args[\"configfile\"] = \"configs/default4D_fast.yaml\"\n",
    "os.chdir('c:\\\\Users\\\\tomru\\\\Documents\\\\PhD\\\\InterpolatingEFT')"
   ]
  },
  {
   "cell_type": "code",
   "execution_count": 3,
   "metadata": {},
   "outputs": [],
   "source": [
    "config  = loadConfig(args[\"configfile\"])\n",
    "name = Path(args[\"configfile\"]).stem"
   ]
  },
  {
   "cell_type": "code",
   "execution_count": 4,
   "metadata": {},
   "outputs": [],
   "source": [
    "interp = rbfInterpolator()\n",
    "interp.initialise(config[\"data\"])"
   ]
  },
  {
   "cell_type": "code",
   "execution_count": 5,
   "metadata": {},
   "outputs": [
    {
     "name": "stdout",
     "output_type": "stream",
     "text": [
      "12.084387747641003\n",
      "12.084415658660987\n",
      "12.084387747641003\n",
      "12.084387747641003\n"
     ]
    }
   ],
   "source": [
    "point = {'lchgXE3': [0.], 'lchwXE2': [1.], 'lctgreXE1': [2.], 'lchj3XE1': [3.]}\n",
    "point_arr = np.array([[0., 1., 2., 3]])\n",
    "print(interp.evaluate(pd.DataFrame(point)))\n",
    "print(interp.evaluate_no_if(pd.DataFrame(point)))\n",
    "print(interp.evaluate_no_pandas(point_arr))\n",
    "print(interp.evaluate_no_if_no_pandas(point_arr))"
   ]
  },
  {
   "cell_type": "code",
   "execution_count": 6,
   "metadata": {},
   "outputs": [
    {
     "name": "stdout",
     "output_type": "stream",
     "text": [
      "1.24 ms ± 69.5 µs per loop (mean ± std. dev. of 7 runs, 2,000 loops each)\n"
     ]
    }
   ],
   "source": [
    "%%timeit -n 2000 -r 7\n",
    "interp.evaluate(pd.DataFrame(point))"
   ]
  },
  {
   "cell_type": "code",
   "execution_count": 7,
   "metadata": {},
   "outputs": [
    {
     "name": "stdout",
     "output_type": "stream",
     "text": [
      "1.16 ms ± 22.1 µs per loop (mean ± std. dev. of 7 runs, 2,000 loops each)\n"
     ]
    }
   ],
   "source": [
    "%%timeit -n 2000 -r 7\n",
    "interp.evaluate_no_if(pd.DataFrame(point))"
   ]
  },
  {
   "cell_type": "code",
   "execution_count": 8,
   "metadata": {},
   "outputs": [
    {
     "name": "stdout",
     "output_type": "stream",
     "text": [
      "996 µs ± 10.5 µs per loop (mean ± std. dev. of 7 runs, 2,000 loops each)\n"
     ]
    }
   ],
   "source": [
    "%%timeit -n 2000 -r 7\n",
    "interp.evaluate_no_pandas(point_arr)"
   ]
  },
  {
   "cell_type": "code",
   "execution_count": 9,
   "metadata": {},
   "outputs": [
    {
     "name": "stdout",
     "output_type": "stream",
     "text": [
      "1.02 ms ± 27.7 µs per loop (mean ± std. dev. of 7 runs, 2,000 loops each)\n"
     ]
    }
   ],
   "source": [
    "%%timeit -n 2000 -r 7\n",
    "interp.evaluate_no_if_no_pandas(point_arr)"
   ]
  },
  {
   "cell_type": "code",
   "execution_count": 22,
   "metadata": {},
   "outputs": [],
   "source": [
    "# Testing scipy\n",
    "from scipy.optimize import minimize\n",
    "\n",
    "def rosen(x):\n",
    "    return sum(100.0*(x[1:]-x[:-1]**2.0)**2.0 + (1-x[:-1])**2.0)\n",
    "\n",
    "def rosen_der(x):\n",
    "    xm = x[1:-1]\n",
    "    xm_m1 = x[:-2]\n",
    "    xm_p1 = x[2:]\n",
    "    der = np.zeros_like(x)\n",
    "    der[1:-1] = 200*(xm-xm_m1**2) - 400*(xm_p1 - xm**2)*xm - 2*(1-xm)\n",
    "    der[0] = -400*x[0]*(x[1]-x[0]**2) - 2*(1-x[0])\n",
    "    der[-1] = 200*(x[-1]-x[-2]**2)\n",
    "\n",
    "    return der\n",
    "x0 = np.array([1.3, 0.7, 0.8, 1.9, 1.2])"
   ]
  },
  {
   "cell_type": "code",
   "execution_count": 25,
   "metadata": {},
   "outputs": [
    {
     "name": "stdout",
     "output_type": "stream",
     "text": [
      "4.27 ms ± 142 µs per loop (mean ± std. dev. of 7 runs, 500 loops each)\n"
     ]
    }
   ],
   "source": [
    "%%timeit -n 500 -r 7\n",
    "res = minimize(rosen, x0, method='L-BFGS-B', bounds=((-1,1),(-1,1),(-1,1),(-1,1),(-1,1)))"
   ]
  },
  {
   "cell_type": "code",
   "execution_count": 26,
   "metadata": {},
   "outputs": [
    {
     "name": "stdout",
     "output_type": "stream",
     "text": [
      "1.23 ms ± 28.1 µs per loop (mean ± std. dev. of 7 runs, 500 loops each)\n"
     ]
    }
   ],
   "source": [
    "%%timeit -n 500 -r 7\n",
    "res = minimize(rosen, x0, method='L-BFGS-B', jac=rosen_der, bounds=((-1,1),(-1,1),(-1,1),(-1,1),(-1,1)))"
   ]
  },
  {
   "cell_type": "code",
   "execution_count": null,
   "metadata": {},
   "outputs": [],
   "source": []
  }
 ],
 "metadata": {
  "kernelspec": {
   "display_name": "ML",
   "language": "python",
   "name": "python3"
  },
  "language_info": {
   "codemirror_mode": {
    "name": "ipython",
    "version": 3
   },
   "file_extension": ".py",
   "mimetype": "text/x-python",
   "name": "python",
   "nbconvert_exporter": "python",
   "pygments_lexer": "ipython3",
   "version": "3.11.7"
  }
 },
 "nbformat": 4,
 "nbformat_minor": 2
}
